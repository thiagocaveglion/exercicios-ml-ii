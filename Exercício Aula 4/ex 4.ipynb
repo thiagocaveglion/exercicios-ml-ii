{
 "cells": [
  {
   "cell_type": "markdown",
   "id": "d7746780",
   "metadata": {},
   "source": [
    "# Exercício Aula 4 - Thiago Caveglion\n",
    "Usar pipeline, usar grid/search random, usar um dataset para fazer regressão"
   ]
  },
  {
   "cell_type": "code",
   "execution_count": 13,
   "id": "797d3ed3",
   "metadata": {},
   "outputs": [],
   "source": [
    "import pandas as pd\n",
    "import numpy as np\n",
    "import matplotlib.pyplot as plt\n",
    "\n",
    "from sklearn.model_selection import train_test_split\n",
    "\n",
    "from sklearn.metrics import mean_squared_error, r2_score,confusion_matrix, accuracy_score, classification_report, precision_score, recall_score, f1_score\n",
    "\n",
    "from warnings import filterwarnings\n",
    "from sklearn.pipeline import Pipeline\n",
    "from sklearn.preprocessing import MinMaxScaler\n",
    "\n",
    "from sklearn.model_selection import GridSearchCV\n",
    "\n",
    "from xgboost import XGBRegressor"
   ]
  },
  {
   "cell_type": "code",
   "execution_count": 15,
   "metadata": {},
   "outputs": [],
   "source": [
    "filterwarnings(\"ignore\")"
   ]
  },
  {
   "cell_type": "code",
   "execution_count": 27,
   "id": "3bf83173",
   "metadata": {},
   "outputs": [],
   "source": [
    "train=pd.read_csv('train.csv')\n",
    "test=pd.read_csv(\"test.csv\")"
   ]
  },
  {
   "cell_type": "code",
   "execution_count": 28,
   "id": "5f7dd09f",
   "metadata": {},
   "outputs": [
    {
     "data": {
      "text/html": [
       "<div>\n",
       "<style scoped>\n",
       "    .dataframe tbody tr th:only-of-type {\n",
       "        vertical-align: middle;\n",
       "    }\n",
       "\n",
       "    .dataframe tbody tr th {\n",
       "        vertical-align: top;\n",
       "    }\n",
       "\n",
       "    .dataframe thead th {\n",
       "        text-align: right;\n",
       "    }\n",
       "</style>\n",
       "<table border=\"1\" class=\"dataframe\">\n",
       "  <thead>\n",
       "    <tr style=\"text-align: right;\">\n",
       "      <th></th>\n",
       "      <th>SongLength</th>\n",
       "      <th>NumInstruments</th>\n",
       "      <th>Genre</th>\n",
       "      <th>Tempo</th>\n",
       "      <th>LyricalContent</th>\n",
       "      <th>ReleasedYear</th>\n",
       "      <th>Popularity</th>\n",
       "    </tr>\n",
       "  </thead>\n",
       "  <tbody>\n",
       "    <tr>\n",
       "      <th>0</th>\n",
       "      <td>234.369261</td>\n",
       "      <td>4</td>\n",
       "      <td>Classical</td>\n",
       "      <td>84.774424</td>\n",
       "      <td>0.152603</td>\n",
       "      <td>2009</td>\n",
       "      <td>13.636534</td>\n",
       "    </tr>\n",
       "    <tr>\n",
       "      <th>1</th>\n",
       "      <td>343.876324</td>\n",
       "      <td>6</td>\n",
       "      <td>Jazz</td>\n",
       "      <td>65.486515</td>\n",
       "      <td>0.408796</td>\n",
       "      <td>1980</td>\n",
       "      <td>42.910689</td>\n",
       "    </tr>\n",
       "    <tr>\n",
       "      <th>2</th>\n",
       "      <td>305.973959</td>\n",
       "      <td>1</td>\n",
       "      <td>Jazz</td>\n",
       "      <td>164.752829</td>\n",
       "      <td>0.318433</td>\n",
       "      <td>1981</td>\n",
       "      <td>48.790880</td>\n",
       "    </tr>\n",
       "    <tr>\n",
       "      <th>3</th>\n",
       "      <td>158.897558</td>\n",
       "      <td>4</td>\n",
       "      <td>Pop</td>\n",
       "      <td>186.565004</td>\n",
       "      <td>0.680595</td>\n",
       "      <td>1984</td>\n",
       "      <td>68.362001</td>\n",
       "    </tr>\n",
       "    <tr>\n",
       "      <th>4</th>\n",
       "      <td>294.279271</td>\n",
       "      <td>4</td>\n",
       "      <td>Country</td>\n",
       "      <td>140.615871</td>\n",
       "      <td>0.969931</td>\n",
       "      <td>2015</td>\n",
       "      <td>86.969489</td>\n",
       "    </tr>\n",
       "  </tbody>\n",
       "</table>\n",
       "</div>"
      ],
      "text/plain": [
       "   SongLength  NumInstruments      Genre       Tempo  LyricalContent  \\\n",
       "0  234.369261               4  Classical   84.774424        0.152603   \n",
       "1  343.876324               6       Jazz   65.486515        0.408796   \n",
       "2  305.973959               1       Jazz  164.752829        0.318433   \n",
       "3  158.897558               4        Pop  186.565004        0.680595   \n",
       "4  294.279271               4    Country  140.615871        0.969931   \n",
       "\n",
       "   ReleasedYear  Popularity  \n",
       "0          2009   13.636534  \n",
       "1          1980   42.910689  \n",
       "2          1981   48.790880  \n",
       "3          1984   68.362001  \n",
       "4          2015   86.969489  "
      ]
     },
     "execution_count": 28,
     "metadata": {},
     "output_type": "execute_result"
    }
   ],
   "source": [
    "train.head()"
   ]
  },
  {
   "cell_type": "code",
   "execution_count": 29,
   "id": "e93d2501",
   "metadata": {},
   "outputs": [
    {
     "name": "stdout",
     "output_type": "stream",
     "text": [
      "<class 'pandas.core.frame.DataFrame'>\n",
      "RangeIndex: 8000 entries, 0 to 7999\n",
      "Data columns (total 7 columns):\n",
      " #   Column          Non-Null Count  Dtype  \n",
      "---  ------          --------------  -----  \n",
      " 0   SongLength      8000 non-null   float64\n",
      " 1   NumInstruments  8000 non-null   int64  \n",
      " 2   Genre           8000 non-null   object \n",
      " 3   Tempo           8000 non-null   float64\n",
      " 4   LyricalContent  8000 non-null   float64\n",
      " 5   ReleasedYear    8000 non-null   int64  \n",
      " 6   Popularity      8000 non-null   float64\n",
      "dtypes: float64(4), int64(2), object(1)\n",
      "memory usage: 437.6+ KB\n"
     ]
    }
   ],
   "source": [
    "train.info()"
   ]
  },
  {
   "cell_type": "markdown",
   "id": "cb26cf4c",
   "metadata": {},
   "source": [
    "## Limpeza do dataset"
   ]
  },
  {
   "cell_type": "markdown",
   "id": "11d7630e",
   "metadata": {},
   "source": [
    "Vamos avaliar os possível valores nulos do dataset."
   ]
  },
  {
   "cell_type": "code",
   "execution_count": 30,
   "id": "a89a2dd4",
   "metadata": {},
   "outputs": [
    {
     "data": {
      "text/plain": [
       "SongLength        0\n",
       "NumInstruments    0\n",
       "Genre             0\n",
       "Tempo             0\n",
       "LyricalContent    0\n",
       "ReleasedYear      0\n",
       "Popularity        0\n",
       "dtype: int64"
      ]
     },
     "execution_count": 30,
     "metadata": {},
     "output_type": "execute_result"
    }
   ],
   "source": [
    "train.isnull().sum()"
   ]
  },
  {
   "cell_type": "markdown",
   "id": "29f6f0c4",
   "metadata": {},
   "source": [
    "Não existem valores nulos no dataset, dado que é sintético"
   ]
  },
  {
   "cell_type": "code",
   "execution_count": 36,
   "metadata": {},
   "outputs": [
    {
     "data": {
      "text/html": [
       "<div>\n",
       "<style scoped>\n",
       "    .dataframe tbody tr th:only-of-type {\n",
       "        vertical-align: middle;\n",
       "    }\n",
       "\n",
       "    .dataframe tbody tr th {\n",
       "        vertical-align: top;\n",
       "    }\n",
       "\n",
       "    .dataframe thead th {\n",
       "        text-align: right;\n",
       "    }\n",
       "</style>\n",
       "<table border=\"1\" class=\"dataframe\">\n",
       "  <thead>\n",
       "    <tr style=\"text-align: right;\">\n",
       "      <th></th>\n",
       "      <th>SongLength</th>\n",
       "      <th>NumInstruments</th>\n",
       "      <th>Genre</th>\n",
       "      <th>Tempo</th>\n",
       "      <th>LyricalContent</th>\n",
       "      <th>ReleasedYear</th>\n",
       "      <th>Popularity</th>\n",
       "    </tr>\n",
       "  </thead>\n",
       "  <tbody>\n",
       "    <tr>\n",
       "      <th>0</th>\n",
       "      <td>234.369261</td>\n",
       "      <td>4</td>\n",
       "      <td>1</td>\n",
       "      <td>84.774424</td>\n",
       "      <td>0.152603</td>\n",
       "      <td>2009</td>\n",
       "      <td>13.636534</td>\n",
       "    </tr>\n",
       "    <tr>\n",
       "      <th>1</th>\n",
       "      <td>343.876324</td>\n",
       "      <td>6</td>\n",
       "      <td>2</td>\n",
       "      <td>65.486515</td>\n",
       "      <td>0.408796</td>\n",
       "      <td>1980</td>\n",
       "      <td>42.910689</td>\n",
       "    </tr>\n",
       "    <tr>\n",
       "      <th>2</th>\n",
       "      <td>305.973959</td>\n",
       "      <td>1</td>\n",
       "      <td>2</td>\n",
       "      <td>164.752829</td>\n",
       "      <td>0.318433</td>\n",
       "      <td>1981</td>\n",
       "      <td>48.790880</td>\n",
       "    </tr>\n",
       "    <tr>\n",
       "      <th>3</th>\n",
       "      <td>158.897558</td>\n",
       "      <td>4</td>\n",
       "      <td>3</td>\n",
       "      <td>186.565004</td>\n",
       "      <td>0.680595</td>\n",
       "      <td>1984</td>\n",
       "      <td>68.362001</td>\n",
       "    </tr>\n",
       "    <tr>\n",
       "      <th>4</th>\n",
       "      <td>294.279271</td>\n",
       "      <td>4</td>\n",
       "      <td>4</td>\n",
       "      <td>140.615871</td>\n",
       "      <td>0.969931</td>\n",
       "      <td>2015</td>\n",
       "      <td>86.969489</td>\n",
       "    </tr>\n",
       "    <tr>\n",
       "      <th>...</th>\n",
       "      <td>...</td>\n",
       "      <td>...</td>\n",
       "      <td>...</td>\n",
       "      <td>...</td>\n",
       "      <td>...</td>\n",
       "      <td>...</td>\n",
       "      <td>...</td>\n",
       "    </tr>\n",
       "    <tr>\n",
       "      <th>7995</th>\n",
       "      <td>398.120876</td>\n",
       "      <td>7</td>\n",
       "      <td>1</td>\n",
       "      <td>135.550681</td>\n",
       "      <td>0.101345</td>\n",
       "      <td>1996</td>\n",
       "      <td>40.695441</td>\n",
       "    </tr>\n",
       "    <tr>\n",
       "      <th>7996</th>\n",
       "      <td>296.558875</td>\n",
       "      <td>7</td>\n",
       "      <td>3</td>\n",
       "      <td>133.586259</td>\n",
       "      <td>0.143948</td>\n",
       "      <td>2021</td>\n",
       "      <td>27.898666</td>\n",
       "    </tr>\n",
       "    <tr>\n",
       "      <th>7997</th>\n",
       "      <td>227.407953</td>\n",
       "      <td>4</td>\n",
       "      <td>1</td>\n",
       "      <td>62.616766</td>\n",
       "      <td>0.142943</td>\n",
       "      <td>1986</td>\n",
       "      <td>10.871648</td>\n",
       "    </tr>\n",
       "    <tr>\n",
       "      <th>7998</th>\n",
       "      <td>275.854318</td>\n",
       "      <td>5</td>\n",
       "      <td>2</td>\n",
       "      <td>67.945166</td>\n",
       "      <td>0.182870</td>\n",
       "      <td>1993</td>\n",
       "      <td>11.234010</td>\n",
       "    </tr>\n",
       "    <tr>\n",
       "      <th>7999</th>\n",
       "      <td>350.478488</td>\n",
       "      <td>5</td>\n",
       "      <td>6</td>\n",
       "      <td>193.569457</td>\n",
       "      <td>0.127300</td>\n",
       "      <td>1999</td>\n",
       "      <td>41.938271</td>\n",
       "    </tr>\n",
       "  </tbody>\n",
       "</table>\n",
       "<p>8000 rows × 7 columns</p>\n",
       "</div>"
      ],
      "text/plain": [
       "      SongLength  NumInstruments  Genre       Tempo  LyricalContent  \\\n",
       "0     234.369261               4      1   84.774424        0.152603   \n",
       "1     343.876324               6      2   65.486515        0.408796   \n",
       "2     305.973959               1      2  164.752829        0.318433   \n",
       "3     158.897558               4      3  186.565004        0.680595   \n",
       "4     294.279271               4      4  140.615871        0.969931   \n",
       "...          ...             ...    ...         ...             ...   \n",
       "7995  398.120876               7      1  135.550681        0.101345   \n",
       "7996  296.558875               7      3  133.586259        0.143948   \n",
       "7997  227.407953               4      1   62.616766        0.142943   \n",
       "7998  275.854318               5      2   67.945166        0.182870   \n",
       "7999  350.478488               5      6  193.569457        0.127300   \n",
       "\n",
       "      ReleasedYear  Popularity  \n",
       "0             2009   13.636534  \n",
       "1             1980   42.910689  \n",
       "2             1981   48.790880  \n",
       "3             1984   68.362001  \n",
       "4             2015   86.969489  \n",
       "...            ...         ...  \n",
       "7995          1996   40.695441  \n",
       "7996          2021   27.898666  \n",
       "7997          1986   10.871648  \n",
       "7998          1993   11.234010  \n",
       "7999          1999   41.938271  \n",
       "\n",
       "[8000 rows x 7 columns]"
      ]
     },
     "metadata": {},
     "output_type": "display_data"
    },
    {
     "data": {
      "text/html": [
       "<div>\n",
       "<style scoped>\n",
       "    .dataframe tbody tr th:only-of-type {\n",
       "        vertical-align: middle;\n",
       "    }\n",
       "\n",
       "    .dataframe tbody tr th {\n",
       "        vertical-align: top;\n",
       "    }\n",
       "\n",
       "    .dataframe thead th {\n",
       "        text-align: right;\n",
       "    }\n",
       "</style>\n",
       "<table border=\"1\" class=\"dataframe\">\n",
       "  <thead>\n",
       "    <tr style=\"text-align: right;\">\n",
       "      <th></th>\n",
       "      <th>SongLength</th>\n",
       "      <th>NumInstruments</th>\n",
       "      <th>Genre</th>\n",
       "      <th>Tempo</th>\n",
       "      <th>LyricalContent</th>\n",
       "      <th>ReleasedYear</th>\n",
       "    </tr>\n",
       "  </thead>\n",
       "  <tbody>\n",
       "    <tr>\n",
       "      <th>0</th>\n",
       "      <td>387.678577</td>\n",
       "      <td>4</td>\n",
       "      <td>1</td>\n",
       "      <td>113.634583</td>\n",
       "      <td>0.798992</td>\n",
       "      <td>2006</td>\n",
       "    </tr>\n",
       "    <tr>\n",
       "      <th>1</th>\n",
       "      <td>189.004660</td>\n",
       "      <td>3</td>\n",
       "      <td>5</td>\n",
       "      <td>155.625985</td>\n",
       "      <td>0.345585</td>\n",
       "      <td>1982</td>\n",
       "    </tr>\n",
       "    <tr>\n",
       "      <th>2</th>\n",
       "      <td>188.998630</td>\n",
       "      <td>9</td>\n",
       "      <td>2</td>\n",
       "      <td>155.238167</td>\n",
       "      <td>0.671574</td>\n",
       "      <td>1981</td>\n",
       "    </tr>\n",
       "    <tr>\n",
       "      <th>3</th>\n",
       "      <td>327.018144</td>\n",
       "      <td>4</td>\n",
       "      <td>1</td>\n",
       "      <td>148.989615</td>\n",
       "      <td>0.259165</td>\n",
       "      <td>2008</td>\n",
       "    </tr>\n",
       "    <tr>\n",
       "      <th>4</th>\n",
       "      <td>392.477463</td>\n",
       "      <td>6</td>\n",
       "      <td>3</td>\n",
       "      <td>151.682743</td>\n",
       "      <td>0.203725</td>\n",
       "      <td>2004</td>\n",
       "    </tr>\n",
       "    <tr>\n",
       "      <th>...</th>\n",
       "      <td>...</td>\n",
       "      <td>...</td>\n",
       "      <td>...</td>\n",
       "      <td>...</td>\n",
       "      <td>...</td>\n",
       "      <td>...</td>\n",
       "    </tr>\n",
       "    <tr>\n",
       "      <th>1995</th>\n",
       "      <td>367.600116</td>\n",
       "      <td>6</td>\n",
       "      <td>5</td>\n",
       "      <td>174.451076</td>\n",
       "      <td>0.636956</td>\n",
       "      <td>2014</td>\n",
       "    </tr>\n",
       "    <tr>\n",
       "      <th>1996</th>\n",
       "      <td>231.199729</td>\n",
       "      <td>4</td>\n",
       "      <td>4</td>\n",
       "      <td>188.624571</td>\n",
       "      <td>0.539352</td>\n",
       "      <td>2005</td>\n",
       "    </tr>\n",
       "    <tr>\n",
       "      <th>1997</th>\n",
       "      <td>223.347419</td>\n",
       "      <td>6</td>\n",
       "      <td>5</td>\n",
       "      <td>127.990795</td>\n",
       "      <td>0.010382</td>\n",
       "      <td>2003</td>\n",
       "    </tr>\n",
       "    <tr>\n",
       "      <th>1998</th>\n",
       "      <td>158.354499</td>\n",
       "      <td>9</td>\n",
       "      <td>3</td>\n",
       "      <td>170.692213</td>\n",
       "      <td>0.676943</td>\n",
       "      <td>2003</td>\n",
       "    </tr>\n",
       "    <tr>\n",
       "      <th>1999</th>\n",
       "      <td>386.676979</td>\n",
       "      <td>9</td>\n",
       "      <td>2</td>\n",
       "      <td>122.729028</td>\n",
       "      <td>0.388822</td>\n",
       "      <td>1985</td>\n",
       "    </tr>\n",
       "  </tbody>\n",
       "</table>\n",
       "<p>2000 rows × 6 columns</p>\n",
       "</div>"
      ],
      "text/plain": [
       "      SongLength  NumInstruments  Genre       Tempo  LyricalContent  \\\n",
       "0     387.678577               4      1  113.634583        0.798992   \n",
       "1     189.004660               3      5  155.625985        0.345585   \n",
       "2     188.998630               9      2  155.238167        0.671574   \n",
       "3     327.018144               4      1  148.989615        0.259165   \n",
       "4     392.477463               6      3  151.682743        0.203725   \n",
       "...          ...             ...    ...         ...             ...   \n",
       "1995  367.600116               6      5  174.451076        0.636956   \n",
       "1996  231.199729               4      4  188.624571        0.539352   \n",
       "1997  223.347419               6      5  127.990795        0.010382   \n",
       "1998  158.354499               9      3  170.692213        0.676943   \n",
       "1999  386.676979               9      2  122.729028        0.388822   \n",
       "\n",
       "      ReleasedYear  \n",
       "0             2006  \n",
       "1             1982  \n",
       "2             1981  \n",
       "3             2008  \n",
       "4             2004  \n",
       "...            ...  \n",
       "1995          2014  \n",
       "1996          2005  \n",
       "1997          2003  \n",
       "1998          2003  \n",
       "1999          1985  \n",
       "\n",
       "[2000 rows x 6 columns]"
      ]
     },
     "metadata": {},
     "output_type": "display_data"
    }
   ],
   "source": [
    "train[\"Genre\"] = train[\"Genre\"].replace({'Classical':1,'Jazz':2,'Pop':3,'Country':4,'Rap':5,'Rock':6})\n",
    "test[\"Genre\"] = test[\"Genre\"].replace({'Classical':1,'Jazz':2,'Pop':3,'Country':4,'Rap':5,'Rock':6})\n",
    "\n",
    "display(train)\n",
    "display(test)"
   ]
  },
  {
   "cell_type": "markdown",
   "id": "dd4c3262",
   "metadata": {},
   "source": [
    "# Estabelecendo X, y"
   ]
  },
  {
   "cell_type": "markdown",
   "metadata": {},
   "source": [
    "Como esse dataset é utilizado para submissões no kaggle, não temos como conferir as métricas de acerto de maneiras tradicionais"
   ]
  },
  {
   "cell_type": "code",
   "execution_count": 40,
   "id": "5e42b007",
   "metadata": {},
   "outputs": [],
   "source": [
    "X_train, X_test = train.drop(columns=[\"Popularity\"]), test\n",
    "y_train = train['Popularity']"
   ]
  },
  {
   "cell_type": "markdown",
   "id": "77a8bf81",
   "metadata": {},
   "source": [
    "# Treinando Regressor por arvore de decisão"
   ]
  },
  {
   "cell_type": "code",
   "execution_count": 41,
   "id": "3799de4e",
   "metadata": {
    "scrolled": false
   },
   "outputs": [
    {
     "name": "stdout",
     "output_type": "stream",
     "text": [
      "Melhores parâmetros: {'xgbregressor__learning_rate': 0.01, 'xgbregressor__n_estimators': 400}\n",
      "\n"
     ]
    },
    {
     "data": {
      "text/plain": [
       "array([64.8361  , 45.0416  , 66.21076 , ..., 19.408287, 68.170456,\n",
       "       46.048805], dtype=float32)"
      ]
     },
     "execution_count": 41,
     "metadata": {},
     "output_type": "execute_result"
    }
   ],
   "source": [
    "\n",
    "pipeline = Pipeline([\n",
    "        ('scaler', MinMaxScaler()),  # Normaliza os dados\n",
    "        ('xgbregressor', XGBRegressor(random_state=42))\n",
    "    ])\n",
    "\n",
    "param_grid = {\n",
    "    'xgbregressor__n_estimators': [200,300,400],\n",
    "    'xgbregressor__learning_rate': [0.1,0.01]\n",
    "}\n",
    "    \n",
    "grid_search = GridSearchCV(pipeline, param_grid, cv=5, scoring='r2')\n",
    "\n",
    "grid_search.fit(X_train, y_train)\n",
    "\n",
    "best_params = grid_search.best_params_\n",
    "print(f\"Melhores parâmetros: {best_params}\\n\")\n",
    "\n",
    "\n",
    "y_pred = grid_search.predict(X_test)\n",
    "\n",
    "y_pred"
   ]
  },
  {
   "cell_type": "code",
   "execution_count": 49,
   "metadata": {},
   "outputs": [
    {
     "data": {
      "image/png": "[encoded data removed]",
      "text/plain": [
       "<Figure size 640x480 with 1 Axes>"
      ]
     },
     "metadata": {},
     "output_type": "display_data"
    }
   ],
   "source": [
    "import seaborn as sns\n",
    "import matplotlib.pyplot as plt\n",
    "\n",
    "\n",
    "sns.histplot(y_pred, color=\"black\", edgecolor=\"white\")\n",
    "plt.title(\"Quantidade de cada popularidade prevista\")\n",
    "plt.xlabel(\"Quantidade\")\n",
    "plt.ylabel(\"Popularidade\")\n",
    "plt.show()"
   ]
  },
  {
   "cell_type": "code",
   "execution_count": 51,
   "metadata": {},
   "outputs": [
    {
     "data": {
      "image/png": "[encoded data removed]",
      "text/plain": [
       "<Figure size 640x480 with 1 Axes>"
      ]
     },
     "metadata": {},
     "output_type": "display_data"
    }
   ],
   "source": [
    "\n",
    "sns.histplot(y_train, color=\"black\", edgecolor=\"white\")\n",
    "plt.title(\"Quantidade de cada popularidade treinada\")\n",
    "plt.xlabel(\"Quantidade\")\n",
    "plt.ylabel(\"Popularidade\")\n",
    "plt.show()"
   ]
  }
 ],
 "metadata": {
  "kernelspec": {
   "display_name": "Python 3 (ipykernel)",
   "language": "python",
   "name": "python3"
  },
  "language_info": {
   "codemirror_mode": {
    "name": "ipython",
    "version": 3
   },
   "file_extension": ".py",
   "mimetype": "text/x-python",
   "name": "python",
   "nbconvert_exporter": "python",
   "pygments_lexer": "ipython3",
   "version": "3.11.5"
  }
 },
 "nbformat": 4,
 "nbformat_minor": 5
}
